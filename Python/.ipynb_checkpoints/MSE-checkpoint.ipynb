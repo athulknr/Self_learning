{
 "cells": [
  {
   "cell_type": "code",
   "execution_count": 1,
   "id": "cab26d36-a7c0-4ffe-8e62-52573487b7ae",
   "metadata": {},
   "outputs": [
    {
     "name": "stdout",
     "output_type": "stream",
     "text": [
      "Mean Squared Error: 0.2874999999999999\n"
     ]
    }
   ],
   "source": [
    "from sklearn.metrics import mean_squared_error\n",
    "import numpy as np\n",
    "\n",
    "# Example actual and predicted values\n",
    "actual_values = np.array([3.0, -0.5, 2.0, 7.0])\n",
    "predicted_values = np.array([2.5, 0.0, 2.1, 7.8])\n",
    "\n",
    "# Calculate MSE\n",
    "mse = mean_squared_error(actual_values, predicted_values)\n",
    "\n",
    "print(f\"Mean Squared Error: {mse}\")\n"
   ]
  },
  {
   "cell_type": "code",
   "execution_count": null,
   "id": "9eb32a09-5085-4ae3-a297-7eb7088d5550",
   "metadata": {},
   "outputs": [],
   "source": []
  }
 ],
 "metadata": {
  "kernelspec": {
   "display_name": "Python 3 (ipykernel)",
   "language": "python",
   "name": "python3"
  },
  "language_info": {
   "codemirror_mode": {
    "name": "ipython",
    "version": 3
   },
   "file_extension": ".py",
   "mimetype": "text/x-python",
   "name": "python",
   "nbconvert_exporter": "python",
   "pygments_lexer": "ipython3",
   "version": "3.11.7"
  }
 },
 "nbformat": 4,
 "nbformat_minor": 5
}
