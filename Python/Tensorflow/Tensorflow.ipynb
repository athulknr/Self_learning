{
 "cells": [
  {
   "cell_type": "code",
   "execution_count": 23,
   "id": "75c05527-4396-4b6f-8a1a-19639e63693d",
   "metadata": {},
   "outputs": [],
   "source": [
    "import tensorflow as tf\n",
    "import numpy as np"
   ]
  },
  {
   "cell_type": "code",
   "execution_count": 25,
   "id": "69d273a1-1acc-4492-b0c2-d1f7fcc789a7",
   "metadata": {},
   "outputs": [],
   "source": [
    "#constants\n",
    "con1= tf.constant(10)\n",
    "con2= tf.constant(3.14)\n",
    "con3= tf.constant(\"this is spartaa\")\n",
    "con4= tf.constant(False)"
   ]
  },
  {
   "cell_type": "code",
   "execution_count": 27,
   "id": "3da1c96c-bb20-4468-811e-ae1d30f13659",
   "metadata": {},
   "outputs": [
    {
     "name": "stdout",
     "output_type": "stream",
     "text": [
      "[<tf.Tensor: shape=(), dtype=int32, numpy=10>, <tf.Tensor: shape=(), dtype=float32, numpy=3.14>, <tf.Tensor: shape=(), dtype=string, numpy=b'this is spartaa'>, <tf.Tensor: shape=(), dtype=bool, numpy=False>]\n"
     ]
    }
   ],
   "source": [
    "print([con1,con2,con3,con4])"
   ]
  },
  {
   "cell_type": "code",
   "execution_count": 29,
   "id": "25c37750-cf23-4de0-b31a-775062bba274",
   "metadata": {},
   "outputs": [
    {
     "name": "stdout",
     "output_type": "stream",
     "text": [
      "10\n",
      "3.14\n",
      "b'this is spartaa'\n",
      "False\n"
     ]
    }
   ],
   "source": [
    "print(con1.numpy())\n",
    "print(con2.numpy())\n",
    "print(con3.numpy())\n",
    "print(con4.numpy())"
   ]
  },
  {
   "cell_type": "code",
   "execution_count": null,
   "id": "17210ea3-e53c-43b7-923b-e1f39575bac3",
   "metadata": {},
   "outputs": [],
   "source": []
  },
  {
   "cell_type": "code",
   "execution_count": null,
   "id": "9c9a9dbb-0971-4b99-a16a-453bd03f1a2c",
   "metadata": {},
   "outputs": [],
   "source": []
  }
 ],
 "metadata": {
  "kernelspec": {
   "display_name": "Python 3 (ipykernel)",
   "language": "python",
   "name": "python3"
  },
  "language_info": {
   "codemirror_mode": {
    "name": "ipython",
    "version": 3
   },
   "file_extension": ".py",
   "mimetype": "text/x-python",
   "name": "python",
   "nbconvert_exporter": "python",
   "pygments_lexer": "ipython3",
   "version": "3.11.7"
  }
 },
 "nbformat": 4,
 "nbformat_minor": 5
}
