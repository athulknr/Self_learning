{
 "cells": [
  {
   "cell_type": "code",
   "execution_count": 56,
   "id": "75c05527-4396-4b6f-8a1a-19639e63693d",
   "metadata": {},
   "outputs": [],
   "source": [
    "import tensorflow as tf\n",
    "import numpy as np"
   ]
  },
  {
   "cell_type": "code",
   "execution_count": 69,
   "id": "78dbb31c-0625-401c-8f15-2c6671823050",
   "metadata": {},
   "outputs": [],
   "source": [
    "# Ensure eager execution is enabled\n",
    "tf.config.run_functions_eagerly(True) "
   ]
  },
  {
   "cell_type": "code",
   "execution_count": 71,
   "id": "69d273a1-1acc-4492-b0c2-d1f7fcc789a7",
   "metadata": {},
   "outputs": [],
   "source": [
    "#constants\n",
    "con1= tf.constant(10)\n",
    "con2= tf.constant(3.14)\n",
    "con3= tf.constant(\"this is spartaa\")\n",
    "con4= tf.constant(False)"
   ]
  },
  {
   "cell_type": "code",
   "execution_count": 73,
   "id": "3da1c96c-bb20-4468-811e-ae1d30f13659",
   "metadata": {},
   "outputs": [
    {
     "name": "stdout",
     "output_type": "stream",
     "text": [
      "[<tf.Tensor 'Const_12:0' shape=() dtype=int32>, <tf.Tensor 'Const_13:0' shape=() dtype=float32>, <tf.Tensor 'Const_14:0' shape=() dtype=string>, <tf.Tensor 'Const_15:0' shape=() dtype=bool>]\n"
     ]
    }
   ],
   "source": [
    "print([con1,con2,con3,con4])"
   ]
  },
  {
   "cell_type": "code",
   "execution_count": null,
   "id": "9c9a9dbb-0971-4b99-a16a-453bd03f1a2c",
   "metadata": {},
   "outputs": [],
   "source": []
  },
  {
   "cell_type": "code",
   "execution_count": null,
   "id": "0f269f9b-3fb4-4c0d-95d6-c42fb8bd38e3",
   "metadata": {},
   "outputs": [],
   "source": []
  }
 ],
 "metadata": {
  "kernelspec": {
   "display_name": "Python 3 (ipykernel)",
   "language": "python",
   "name": "python3"
  },
  "language_info": {
   "codemirror_mode": {
    "name": "ipython",
    "version": 3
   },
   "file_extension": ".py",
   "mimetype": "text/x-python",
   "name": "python",
   "nbconvert_exporter": "python",
   "pygments_lexer": "ipython3",
   "version": "3.11.7"
  }
 },
 "nbformat": 4,
 "nbformat_minor": 5
}
